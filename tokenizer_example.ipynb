{
 "cells": [
  {
   "cell_type": "code",
   "execution_count": 1,
   "id": "20c825e0",
   "metadata": {},
   "outputs": [],
   "source": [
    "import sentencepiece as spm"
   ]
  },
  {
   "cell_type": "code",
   "execution_count": 2,
   "id": "97a896f8",
   "metadata": {},
   "outputs": [],
   "source": [
    "sp = spm.SentencePieceProcessor(model_file='./bpe_tokenizer/libri_205.model')"
   ]
  },
  {
   "cell_type": "code",
   "execution_count": 10,
   "id": "abeb6874",
   "metadata": {},
   "outputs": [
    {
     "data": {
      "text/plain": [
       "['▁g', 'am', 'ble']"
      ]
     },
     "execution_count": 10,
     "metadata": {},
     "output_type": "execute_result"
    }
   ],
   "source": [
    "sp.encode(\"gamble\",out_type='str')"
   ]
  },
  {
   "cell_type": "code",
   "execution_count": null,
   "id": "bc3ebed9",
   "metadata": {},
   "outputs": [],
   "source": []
  }
 ],
 "metadata": {
  "kernelspec": {
   "display_name": "Python 3 (ipykernel)",
   "language": "python",
   "name": "python3"
  },
  "language_info": {
   "codemirror_mode": {
    "name": "ipython",
    "version": 3
   },
   "file_extension": ".py",
   "mimetype": "text/x-python",
   "name": "python",
   "nbconvert_exporter": "python",
   "pygments_lexer": "ipython3",
   "version": "3.9.7"
  }
 },
 "nbformat": 4,
 "nbformat_minor": 5
}
